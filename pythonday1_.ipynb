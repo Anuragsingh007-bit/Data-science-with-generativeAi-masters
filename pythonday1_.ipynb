{
  "nbformat": 4,
  "nbformat_minor": 0,
  "metadata": {
    "colab": {
      "provenance": [],
      "authorship_tag": "ABX9TyMcrqMFkAi/Ab+YCk0JF5lJ",
      "include_colab_link": true
    },
    "kernelspec": {
      "name": "python3",
      "display_name": "Python 3"
    },
    "language_info": {
      "name": "python"
    }
  },
  "cells": [
    {
      "cell_type": "markdown",
      "metadata": {
        "id": "view-in-github",
        "colab_type": "text"
      },
      "source": [
        "<a href=\"https://colab.research.google.com/github/Anuragsingh007-bit/Data-science-with-generativeAi-masters/blob/main/pythonday1_.ipynb\" target=\"_parent\"><img src=\"https://colab.research.google.com/assets/colab-badge.svg\" alt=\"Open In Colab\"/></a>"
      ]
    },
    {
      "cell_type": "code",
      "execution_count": 1,
      "metadata": {
        "id": "G2dFli69h2dZ"
      },
      "outputs": [],
      "source": [
        "a=10\n",
        "\n"
      ]
    },
    {
      "cell_type": "code",
      "source": [
        "a='c'"
      ],
      "metadata": {
        "id": "xPE3PxIwh94L"
      },
      "execution_count": 2,
      "outputs": []
    },
    {
      "cell_type": "code",
      "source": [
        "type(a)"
      ],
      "metadata": {
        "colab": {
          "base_uri": "https://localhost:8080/"
        },
        "id": "FQhLXDlIh_5f",
        "outputId": "11df67a3-8ed7-410c-d383-733c81ccc919"
      },
      "execution_count": 3,
      "outputs": [
        {
          "output_type": "execute_result",
          "data": {
            "text/plain": [
              "str"
            ]
          },
          "metadata": {},
          "execution_count": 3
        }
      ]
    },
    {
      "cell_type": "code",
      "source": [
        "int('123')"
      ],
      "metadata": {
        "colab": {
          "base_uri": "https://localhost:8080/"
        },
        "id": "jGMVSoNyiBlT",
        "outputId": "637dfe93-f2a9-4b4b-f637-7c5ddd3afc82"
      },
      "execution_count": 4,
      "outputs": [
        {
          "output_type": "execute_result",
          "data": {
            "text/plain": [
              "123"
            ]
          },
          "metadata": {},
          "execution_count": 4
        }
      ]
    },
    {
      "cell_type": "code",
      "source": [
        "int('abcd')"
      ],
      "metadata": {
        "colab": {
          "base_uri": "https://localhost:8080/",
          "height": 141
        },
        "id": "VXlrJf2QiDBb",
        "outputId": "0953bf63-bdee-4fa2-fb83-ab69b81156fb"
      },
      "execution_count": 5,
      "outputs": [
        {
          "output_type": "error",
          "ename": "ValueError",
          "evalue": "invalid literal for int() with base 10: 'abcd'",
          "traceback": [
            "\u001b[0;31m---------------------------------------------------------------------------\u001b[0m",
            "\u001b[0;31mValueError\u001b[0m                                Traceback (most recent call last)",
            "\u001b[0;32m/tmp/ipython-input-5-3100266108.py\u001b[0m in \u001b[0;36m<cell line: 0>\u001b[0;34m()\u001b[0m\n\u001b[0;32m----> 1\u001b[0;31m \u001b[0mint\u001b[0m\u001b[0;34m(\u001b[0m\u001b[0;34m'abcd'\u001b[0m\u001b[0;34m)\u001b[0m\u001b[0;34m\u001b[0m\u001b[0;34m\u001b[0m\u001b[0m\n\u001b[0m",
            "\u001b[0;31mValueError\u001b[0m: invalid literal for int() with base 10: 'abcd'"
          ]
        }
      ]
    },
    {
      "cell_type": "code",
      "source": [
        "print(\"Hello World\")"
      ],
      "metadata": {
        "colab": {
          "base_uri": "https://localhost:8080/"
        },
        "id": "hnIzgWTxiGZN",
        "outputId": "5fd3dd37-d4ec-4eab-99f8-c7692e7eb128"
      },
      "execution_count": 6,
      "outputs": [
        {
          "output_type": "stream",
          "name": "stdout",
          "text": [
            "Hello World\n"
          ]
        }
      ]
    },
    {
      "cell_type": "code",
      "source": [
        "print(123)"
      ],
      "metadata": {
        "colab": {
          "base_uri": "https://localhost:8080/"
        },
        "id": "H17-e_bZiH6H",
        "outputId": "c621a124-c77c-49be-a2ae-117506820d98"
      },
      "execution_count": 7,
      "outputs": [
        {
          "output_type": "stream",
          "name": "stdout",
          "text": [
            "123\n"
          ]
        }
      ]
    },
    {
      "cell_type": "code",
      "source": [
        "print('Hello World')"
      ],
      "metadata": {
        "colab": {
          "base_uri": "https://localhost:8080/"
        },
        "id": "DQxsG3zliKBx",
        "outputId": "c88f8834-916b-42f5-b99b-5a2dd80ae2e7"
      },
      "execution_count": 8,
      "outputs": [
        {
          "output_type": "stream",
          "name": "stdout",
          "text": [
            "Hello World\n"
          ]
        }
      ]
    },
    {
      "cell_type": "code",
      "source": [
        "age=32\n",
        "print(\"My age is:\",age)"
      ],
      "metadata": {
        "colab": {
          "base_uri": "https://localhost:8080/"
        },
        "id": "xCOCeHfbiL58",
        "outputId": "7a49826d-90f8-4d8e-94f4-a9a548aac210"
      },
      "execution_count": 9,
      "outputs": [
        {
          "output_type": "stream",
          "name": "stdout",
          "text": [
            "My age is: 32\n"
          ]
        }
      ]
    },
    {
      "cell_type": "code",
      "source": [
        "# formatted string\n",
        "print(f\"my age no. is: {age}\")"
      ],
      "metadata": {
        "colab": {
          "base_uri": "https://localhost:8080/"
        },
        "id": "E6EdYO4aiNik",
        "outputId": "fe0959f8-a6b8-4665-d9bb-347007c7f63b"
      },
      "execution_count": 12,
      "outputs": [
        {
          "output_type": "stream",
          "name": "stdout",
          "text": [
            "my age no. is: 32\n"
          ]
        }
      ]
    },
    {
      "cell_type": "code",
      "source": [
        "name = \"anurag singh\"\n",
        "age = 21\n",
        "print(f\"my name and age is:{name,age}\")"
      ],
      "metadata": {
        "colab": {
          "base_uri": "https://localhost:8080/"
        },
        "id": "jpWcNSRDie9Q",
        "outputId": "d961b667-c1c4-4a78-a26d-fd3ddf9dc8aa"
      },
      "execution_count": 13,
      "outputs": [
        {
          "output_type": "stream",
          "name": "stdout",
          "text": [
            "my name and age is:('anurag singh', 21)\n"
          ]
        }
      ]
    },
    {
      "cell_type": "code",
      "source": [
        "print(\"My name is {} and age is {}\".format(age,name))"
      ],
      "metadata": {
        "colab": {
          "base_uri": "https://localhost:8080/"
        },
        "id": "3uQIkeI9izQB",
        "outputId": "d0d95f46-fecd-44eb-a178-b2dffd521f30"
      },
      "execution_count": 14,
      "outputs": [
        {
          "output_type": "stream",
          "name": "stdout",
          "text": [
            "My name is 21 and age is anurag singh\n"
          ]
        }
      ]
    },
    {
      "cell_type": "code",
      "source": [
        "\n",
        "##placeholder\n",
        "print(\"My name is {firstname} and age is {firstage}\".format(firstage=age,firstname=name))"
      ],
      "metadata": {
        "colab": {
          "base_uri": "https://localhost:8080/"
        },
        "id": "c5AihLY0i7Yc",
        "outputId": "2fd626ee-4745-436f-bdf1-a9b842ff5b57"
      },
      "execution_count": 15,
      "outputs": [
        {
          "output_type": "stream",
          "name": "stdout",
          "text": [
            "My name is anurag singh and age is 21\n"
          ]
        }
      ]
    },
    {
      "cell_type": "code",
      "source": [
        "name=\"Krish Naik\"\n",
        "age=32\n",
        "degree=\"BE\"\n",
        "\n",
        "\" My age is 32 and i have completed: my degree of BE with the name of Krish Naik\""
      ],
      "metadata": {
        "colab": {
          "base_uri": "https://localhost:8080/",
          "height": 36
        },
        "id": "jQ_95CMYjS2g",
        "outputId": "b8579890-f87d-4453-b13c-af3e3433e556"
      },
      "execution_count": 16,
      "outputs": [
        {
          "output_type": "execute_result",
          "data": {
            "text/plain": [
              "' My age is 32 and i have completed: my degree of BE with the name of Krish Naik'"
            ],
            "application/vnd.google.colaboratory.intrinsic+json": {
              "type": "string"
            }
          },
          "metadata": {},
          "execution_count": 16
        }
      ]
    },
    {
      "cell_type": "code",
      "source": [
        "print(\"My age is {} and i have completed: my degree {} with the name of {}\".format(age,degree,name))"
      ],
      "metadata": {
        "colab": {
          "base_uri": "https://localhost:8080/"
        },
        "id": "9IWTeyjzjaR3",
        "outputId": "11478d17-cdf5-4038-c85e-1346646326df"
      },
      "execution_count": 17,
      "outputs": [
        {
          "output_type": "stream",
          "name": "stdout",
          "text": [
            "My age is 32 and i have completed: my degree BE with the name of Krish Naik\n"
          ]
        }
      ]
    },
    {
      "cell_type": "code",
      "source": [
        "print(f\"My age is {age} and I have completed: my degree of {degree} with the name of {name}\")"
      ],
      "metadata": {
        "colab": {
          "base_uri": "https://localhost:8080/"
        },
        "id": "WfRsR-d-jg4G",
        "outputId": "9ba7ace8-a8bd-4a42-ca79-09596c28b306"
      },
      "execution_count": 18,
      "outputs": [
        {
          "output_type": "stream",
          "name": "stdout",
          "text": [
            "My age is 32 and I have completed: my degree of BE with the name of Krish Naik\n"
          ]
        }
      ]
    },
    {
      "cell_type": "code",
      "source": [
        "'''Control Flow\n",
        "Decision Making statements\n",
        "It is kind of making decision during occurred situation of program execution and action can be taken according to specified conditions.\n",
        "Structure of decision making evaluate several expressions that provide True or False as a result.\n",
        "It is up to you to decide which type of action want to take and execute the statements based upon True and False.\n",
        "These are several topics of decision making which going to be discussed below:\n",
        "\n",
        "if\n",
        "if else\n",
        "if elif else\n",
        "Nested if\n",
        "Single Statement Suites'''"
      ],
      "metadata": {
        "colab": {
          "base_uri": "https://localhost:8080/",
          "height": 70
        },
        "id": "QORxBS9Ojlm3",
        "outputId": "ab5f68c0-0161-4ce4-a4b3-73778159bdf5"
      },
      "execution_count": 19,
      "outputs": [
        {
          "output_type": "execute_result",
          "data": {
            "text/plain": [
              "'Control Flow\\nDecision Making statements\\nIt is kind of making decision during occurred situation of program execution and action can be taken according to specified conditions.\\nStructure of decision making evaluate several expressions that provide True or False as a result.\\nIt is up to you to decide which type of action want to take and execute the statements based upon True and False.\\nThese are several topics of decision making which going to be discussed below:\\n\\nif\\nif else\\nif elif else\\nNested if\\nSingle Statement Suites'"
            ],
            "application/vnd.google.colaboratory.intrinsic+json": {
              "type": "string"
            }
          },
          "metadata": {},
          "execution_count": 19
        }
      ]
    },
    {
      "cell_type": "code",
      "source": [],
      "metadata": {
        "id": "ZKh1llqvjtUj"
      },
      "execution_count": null,
      "outputs": []
    },
    {
      "cell_type": "markdown",
      "source": [
        "'''Control Flow\n",
        "Decision Making statements\n",
        "It is kind of making decision during occurred situation of program execution and action can be taken according to specified conditions.\n",
        "Structure of decision making evaluate several expressions that provide True or False as a result.\n",
        "It is up to you to decide which type of action want to take and execute the statements based upon True and False.\n",
        "These are several topics of decision making which going to be discussed below:\n",
        "\n",
        "if\n",
        "if else\n",
        "if elif else\n",
        "Nested if\n",
        "Single Statement Suites'''"
      ],
      "metadata": {
        "id": "ObbTS04qjwzt"
      }
    },
    {
      "cell_type": "code",
      "source": [
        "## If Statements\n",
        "age=18\n",
        "if age>=18:\n",
        "    print(\"You are eligible to vote\")"
      ],
      "metadata": {
        "colab": {
          "base_uri": "https://localhost:8080/"
        },
        "id": "z6u8p-vLjzpF",
        "outputId": "a5436a95-5837-445f-fed9-9b1a12376b30"
      },
      "execution_count": 20,
      "outputs": [
        {
          "output_type": "stream",
          "name": "stdout",
          "text": [
            "You are eligible to vote\n"
          ]
        }
      ]
    },
    {
      "cell_type": "code",
      "source": [
        "## If Statements\n",
        "age=17\n",
        "if age<18:\n",
        "    print(\"You are not eligible to vote\")"
      ],
      "metadata": {
        "colab": {
          "base_uri": "https://localhost:8080/"
        },
        "id": "hq0ZIATFj4qH",
        "outputId": "00c960d4-f00e-4c67-def0-391c61143b89"
      },
      "execution_count": 21,
      "outputs": [
        {
          "output_type": "stream",
          "name": "stdout",
          "text": [
            "You are not eligible to vote\n"
          ]
        }
      ]
    },
    {
      "cell_type": "code",
      "source": [
        "18<=18"
      ],
      "metadata": {
        "colab": {
          "base_uri": "https://localhost:8080/"
        },
        "id": "jKHSyYKmj8Wy",
        "outputId": "c59777be-b4a4-4e21-af86-05e327303e80"
      },
      "execution_count": 22,
      "outputs": [
        {
          "output_type": "execute_result",
          "data": {
            "text/plain": [
              "True"
            ]
          },
          "metadata": {},
          "execution_count": 22
        }
      ]
    },
    {
      "cell_type": "code",
      "source": [
        "name=input(\"Enter the name\")"
      ],
      "metadata": {
        "colab": {
          "base_uri": "https://localhost:8080/"
        },
        "id": "bHEjppU5j-Wx",
        "outputId": "57795b58-711b-41b0-b758-1ae566e55f5b"
      },
      "execution_count": 24,
      "outputs": [
        {
          "name": "stdout",
          "output_type": "stream",
          "text": [
            "Enter the nameanurag singh\n"
          ]
        }
      ]
    },
    {
      "cell_type": "code",
      "source": [
        "name"
      ],
      "metadata": {
        "colab": {
          "base_uri": "https://localhost:8080/",
          "height": 36
        },
        "id": "GTQUsRgZkA95",
        "outputId": "a44ecf43-687d-424f-fa9e-5f2f89f25452"
      },
      "execution_count": 25,
      "outputs": [
        {
          "output_type": "execute_result",
          "data": {
            "text/plain": [
              "'anurag singh'"
            ],
            "application/vnd.google.colaboratory.intrinsic+json": {
              "type": "string"
            }
          },
          "metadata": {},
          "execution_count": 25
        }
      ]
    },
    {
      "cell_type": "code",
      "source": [
        "age=int(input(\"Enter your age\"))"
      ],
      "metadata": {
        "colab": {
          "base_uri": "https://localhost:8080/"
        },
        "id": "E73_3pxWkIew",
        "outputId": "4ae652cb-dd09-4fc7-a082-6472bcd1cf26"
      },
      "execution_count": 26,
      "outputs": [
        {
          "name": "stdout",
          "output_type": "stream",
          "text": [
            "Enter your age22\n"
          ]
        }
      ]
    },
    {
      "cell_type": "code",
      "source": [
        "type(age)"
      ],
      "metadata": {
        "colab": {
          "base_uri": "https://localhost:8080/"
        },
        "id": "iRDhnpTmkKTn",
        "outputId": "bf95c75d-f1b9-4168-a0e6-34105ce770eb"
      },
      "execution_count": 27,
      "outputs": [
        {
          "output_type": "execute_result",
          "data": {
            "text/plain": [
              "int"
            ]
          },
          "metadata": {},
          "execution_count": 27
        }
      ]
    },
    {
      "cell_type": "code",
      "source": [
        "##Task\n",
        "## Take a input of age\n",
        "## check whether age >=18 and age<=45\n",
        "## display a message you are young blood"
      ],
      "metadata": {
        "id": "u3rAAZDkkODl"
      },
      "execution_count": 28,
      "outputs": []
    },
    {
      "cell_type": "code",
      "source": [
        "age=int(input(\"Enter the age\"))\n",
        "if  age>=18 and age <=45:\n",
        "    print(\"You are young blood\")"
      ],
      "metadata": {
        "colab": {
          "base_uri": "https://localhost:8080/"
        },
        "id": "llGyIyNIkS6X",
        "outputId": "29a89d43-94a3-47ae-e5e1-937f84ff0005"
      },
      "execution_count": 29,
      "outputs": [
        {
          "output_type": "stream",
          "name": "stdout",
          "text": [
            "Enter the age20\n",
            "You are young blood\n"
          ]
        }
      ]
    },
    {
      "cell_type": "code",
      "source": [
        "22>=18 and 22<=45"
      ],
      "metadata": {
        "colab": {
          "base_uri": "https://localhost:8080/"
        },
        "id": "pBXjLEvzkXaQ",
        "outputId": "e41d7b0d-b1a3-4527-9c7f-1deb080e9aa0"
      },
      "execution_count": 30,
      "outputs": [
        {
          "output_type": "execute_result",
          "data": {
            "text/plain": [
              "True"
            ]
          },
          "metadata": {},
          "execution_count": 30
        }
      ]
    },
    {
      "cell_type": "code",
      "source": [
        "age=int(input(\"Enter the age\"))\n",
        "if  age>=18 and age <=45:\n",
        "    print(\"You are young blood\")"
      ],
      "metadata": {
        "colab": {
          "base_uri": "https://localhost:8080/"
        },
        "id": "C3xKvGelkbix",
        "outputId": "9f43f834-53cc-4da2-9d45-a58176e43f6f"
      },
      "execution_count": 31,
      "outputs": [
        {
          "output_type": "stream",
          "name": "stdout",
          "text": [
            "Enter the age22\n",
            "You are young blood\n"
          ]
        }
      ]
    },
    {
      "cell_type": "code",
      "source": [
        "## if else satetements\n",
        "age=int(input(\"Enter the age\"))\n",
        "if age>=18 and age<=45:\n",
        "    print(\"you are young blood\")\n",
        "else:\n",
        "    print(\"you are young blood!\")"
      ],
      "metadata": {
        "colab": {
          "base_uri": "https://localhost:8080/"
        },
        "id": "aQ3aqVFVkhr_",
        "outputId": "142a1cdc-c207-46b3-c229-d0dc4b0096db"
      },
      "execution_count": 32,
      "outputs": [
        {
          "output_type": "stream",
          "name": "stdout",
          "text": [
            "Enter the age50\n",
            "you are young blood!\n"
          ]
        }
      ]
    },
    {
      "cell_type": "code",
      "source": [
        "## mall - input the product price\n",
        "## product >1000 rs 20% off\n",
        "## print the product price after removing the discount\n",
        "## product <=1000 rs 30% off\n",
        "## print the product price after removing the discount\n",
        "\n",
        "product_price = int(input(\"Enter the product price\"))\n",
        "if product_price>1000 :\n",
        "  print(\"The price of the product is {}\".format(product_price*0.8))\n",
        "else :\n",
        "  print(\"The price of the product is {}\".format(product_price*0.7))\n"
      ],
      "metadata": {
        "colab": {
          "base_uri": "https://localhost:8080/"
        },
        "id": "62QdRu0xk1YC",
        "outputId": "ec5ce2a1-239f-4d4a-d302-166ffef0a027"
      },
      "execution_count": 33,
      "outputs": [
        {
          "output_type": "stream",
          "name": "stdout",
          "text": [
            "Enter the product price100\n",
            "The price of the product is 70.0\n"
          ]
        }
      ]
    },
    {
      "cell_type": "code",
      "source": [
        "## mall - input the product price\n",
        "## product >1000 rs 20% off\n",
        "## print the product price after removing the discount\n",
        "## product <=1000 rs 30% off\n",
        "## print the product price after removing the discount\n",
        "\n",
        "product_price = int(input(\"Enter the product price\"))\n",
        "if product_price>1000 :\n",
        "  print(\"The price of the product is {}\".format(product_price*0.8))\n",
        "else :\n",
        "  print(\"The price of the product is {}\".format(product_price*0.7))\n"
      ],
      "metadata": {
        "colab": {
          "base_uri": "https://localhost:8080/"
        },
        "id": "tfmJC6kilcjj",
        "outputId": "091f7eb6-9c67-475c-9b3f-bd1c256f7ea9"
      },
      "execution_count": 34,
      "outputs": [
        {
          "output_type": "stream",
          "name": "stdout",
          "text": [
            "Enter the product price12000\n",
            "The price of the product is 9600.0\n"
          ]
        }
      ]
    },
    {
      "cell_type": "code",
      "source": [
        "int((20/100)*5000)"
      ],
      "metadata": {
        "colab": {
          "base_uri": "https://localhost:8080/"
        },
        "id": "qx_3cBqzlgon",
        "outputId": "9fb1c8df-5c19-4da4-c897-fb81d9fc64d6"
      },
      "execution_count": 35,
      "outputs": [
        {
          "output_type": "execute_result",
          "data": {
            "text/plain": [
              "1000"
            ]
          },
          "metadata": {},
          "execution_count": 35
        }
      ]
    },
    {
      "cell_type": "code",
      "source": [
        "## mall - input the product price\n",
        "## product >3000 rs 20% off\n",
        "## price is ==4000 you get a trip to Goa\n",
        "## print the product price after removing the discount\n",
        "## product >=2000 rs and <=3000 30% off\n",
        "## print the product price after removing the discount\n",
        "## price ==2999  u will get adiitional gift\n",
        "## product 100 rs and <=2000 40% off\n",
        "## print the product price after removing the discount\n",
        "price=int(input(\"enter the price of product\"))\n",
        "if price>3000:\n",
        "  print(\"product >3000 rs 20% off{}\".format(price*0.8))\n",
        "elif price==4000:\n",
        "  print(\"price is ==4000 you get a trip to Goa\")\n",
        "elif price >= 2000  and price <= 3000:\n",
        "  print(\"print the product price after removing the discount{}:\".format(price*0.7))\n",
        "elif  price ==2999:\n",
        "  print(\"u will get adiitional gift\")\n",
        "elif price >= 100  and price <= 2000:\n",
        "  print(\"print the product price after removing the discount{}:\".format(price*0.4))\n",
        "else:\n",
        "  print(\"invalid\")"
      ],
      "metadata": {
        "colab": {
          "base_uri": "https://localhost:8080/"
        },
        "id": "lyNEMYiIlmdo",
        "outputId": "d53e5d22-2a17-4b4b-e1f7-6d8c00436f1f"
      },
      "execution_count": 46,
      "outputs": [
        {
          "output_type": "stream",
          "name": "stdout",
          "text": [
            "enter the price of product25000\n",
            "product >3000 rs 20% off20000.0\n"
          ]
        }
      ]
    },
    {
      "cell_type": "code",
      "source": [
        "product_price=int(input(\"Enter the price\"))\n",
        "if product_price>3000:\n",
        "    if product_price==4000:\n",
        "        print(\"Congratulations you get a Goa Trip\")\n",
        "    print(f\"The price of the product is {product_price*0.8}\")\n",
        "elif product_price>=2000 and product_price<=3000:\n",
        "    if product_price==2999:\n",
        "        print(\"Congratulations you get an additional gift\")\n",
        "    print(f\"The price of the product is {product_price*0.7}\")\n",
        "elif product_price>=100 and product_price<2000:\n",
        "    print(f\"The price of the product is {product_price*0.6}\")\n",
        "else:\n",
        "    print(\"Lets drink tea\")\n",
        "    print(\"I will also be there\")\n",
        ""
      ],
      "metadata": {
        "colab": {
          "base_uri": "https://localhost:8080/"
        },
        "id": "KciDlquvnw3t",
        "outputId": "b94ae3f6-baba-4e3e-d829-39cea7d76ba5"
      },
      "execution_count": 45,
      "outputs": [
        {
          "output_type": "stream",
          "name": "stdout",
          "text": [
            "Enter the price5000\n",
            "The price of the product is 4000.0\n"
          ]
        }
      ]
    },
    {
      "cell_type": "code",
      "source": [
        "#comaprission operator\n",
        "True==True"
      ],
      "metadata": {
        "colab": {
          "base_uri": "https://localhost:8080/"
        },
        "id": "SMALmHwXoPOI",
        "outputId": "03eb825c-72ad-4d52-d1b2-e348e3611c71"
      },
      "execution_count": 47,
      "outputs": [
        {
          "output_type": "execute_result",
          "data": {
            "text/plain": [
              "True"
            ]
          },
          "metadata": {},
          "execution_count": 47
        }
      ]
    },
    {
      "cell_type": "code",
      "source": [
        "## Single statement Suites\n",
        "val=int(input('Enter the number'))\n",
        "if(val<=999):print(\"Value is less than equal to 999\")\n",
        "else:\n",
        "    print(\"Go Home\")"
      ],
      "metadata": {
        "colab": {
          "base_uri": "https://localhost:8080/"
        },
        "id": "UpsMcOTdolNb",
        "outputId": "6c58e910-ce32-4550-a3e1-5d15682f97d8"
      },
      "execution_count": 48,
      "outputs": [
        {
          "output_type": "stream",
          "name": "stdout",
          "text": [
            "Enter the number100\n",
            "Value is less than equal to 999\n"
          ]
        }
      ]
    },
    {
      "cell_type": "code",
      "source": [
        "## Single statement Suites\n",
        "val=int(input('Enter the number'))\n",
        "if(val<=999):print(\"Value is less than equal to 999\")\n",
        "else:print(\"Go Home\")"
      ],
      "metadata": {
        "colab": {
          "base_uri": "https://localhost:8080/"
        },
        "id": "oKrWFb_vopzo",
        "outputId": "71c68fca-8d8e-4d34-c372-252112d20e34"
      },
      "execution_count": 49,
      "outputs": [
        {
          "output_type": "stream",
          "name": "stdout",
          "text": [
            "Enter the number1200\n",
            "Go Home\n"
          ]
        }
      ]
    },
    {
      "cell_type": "code",
      "source": [
        "# while loop while-else\n",
        "joining_age=25\n",
        "while joining_age<=60:\n",
        "  print(joining_age)\n",
        "  joining_age=joining_age+1\n",
        "else:\n",
        "  print(\"Its time for retirement\")"
      ],
      "metadata": {
        "colab": {
          "base_uri": "https://localhost:8080/"
        },
        "id": "5uDLmk58ou4f",
        "outputId": "5785b1ea-71c2-4a1f-ee87-2baaed90e17a"
      },
      "execution_count": 50,
      "outputs": [
        {
          "output_type": "stream",
          "name": "stdout",
          "text": [
            "25\n",
            "26\n",
            "27\n",
            "28\n",
            "29\n",
            "30\n",
            "31\n",
            "32\n",
            "33\n",
            "34\n",
            "35\n",
            "36\n",
            "37\n",
            "38\n",
            "39\n",
            "40\n",
            "41\n",
            "42\n",
            "43\n",
            "44\n",
            "45\n",
            "46\n",
            "47\n",
            "48\n",
            "49\n",
            "50\n",
            "51\n",
            "52\n",
            "53\n",
            "54\n",
            "55\n",
            "56\n",
            "57\n",
            "58\n",
            "59\n",
            "60\n",
            "Its time for retirement\n"
          ]
        }
      ]
    },
    {
      "cell_type": "code",
      "source": [
        "### Atm machine with 1000 rs\n",
        "total_amount=1000\n",
        "while total_amount != 0 :\n",
        "  print(total_amount)\n",
        "  total_amount=total_amount-100\n",
        "else:\n",
        "  print(\"balance empty\")"
      ],
      "metadata": {
        "colab": {
          "base_uri": "https://localhost:8080/"
        },
        "id": "3NOwfpw4pOr8",
        "outputId": "a37a1a1e-6998-4036-ef2b-1b91a2dc465f"
      },
      "execution_count": 52,
      "outputs": [
        {
          "output_type": "stream",
          "name": "stdout",
          "text": [
            "1000\n",
            "900\n",
            "800\n",
            "700\n",
            "600\n",
            "500\n",
            "400\n",
            "300\n",
            "200\n",
            "100\n",
            "balance empty\n"
          ]
        }
      ]
    },
    {
      "cell_type": "code",
      "source": [
        "lst=[\"Krish\",1,2,3,4,\"apple\",\"banana\"]"
      ],
      "metadata": {
        "id": "dJG_aSB-rsYP"
      },
      "execution_count": 53,
      "outputs": []
    },
    {
      "cell_type": "code",
      "source": [
        "type(lst)"
      ],
      "metadata": {
        "colab": {
          "base_uri": "https://localhost:8080/"
        },
        "id": "A24d1AbOrwvS",
        "outputId": "290d6303-45f6-436c-dfa5-0ac7d5cc0882"
      },
      "execution_count": 54,
      "outputs": [
        {
          "output_type": "execute_result",
          "data": {
            "text/plain": [
              "list"
            ]
          },
          "metadata": {},
          "execution_count": 54
        }
      ]
    },
    {
      "cell_type": "code",
      "source": [
        "lst[4]"
      ],
      "metadata": {
        "colab": {
          "base_uri": "https://localhost:8080/"
        },
        "id": "szjRhRVCt97l",
        "outputId": "f93cab8d-2839-48b8-f821-4497253b3988"
      },
      "execution_count": 55,
      "outputs": [
        {
          "output_type": "execute_result",
          "data": {
            "text/plain": [
              "4"
            ]
          },
          "metadata": {},
          "execution_count": 55
        }
      ]
    },
    {
      "cell_type": "code",
      "source": [
        "lst\n"
      ],
      "metadata": {
        "colab": {
          "base_uri": "https://localhost:8080/"
        },
        "id": "Y6ALFLsJt_nv",
        "outputId": "136018aa-a7b8-4407-b6cb-411311aaf290"
      },
      "execution_count": 56,
      "outputs": [
        {
          "output_type": "execute_result",
          "data": {
            "text/plain": [
              "['Krish', 1, 2, 3, 4, 'apple', 'banana']"
            ]
          },
          "metadata": {},
          "execution_count": 56
        }
      ]
    },
    {
      "cell_type": "code",
      "source": [
        "for x in lst:\n",
        "    print(x)"
      ],
      "metadata": {
        "colab": {
          "base_uri": "https://localhost:8080/"
        },
        "id": "BZLr8TMSuFCS",
        "outputId": "6da12299-c9d5-4be9-e6dd-81e167c27f3c"
      },
      "execution_count": 57,
      "outputs": [
        {
          "output_type": "stream",
          "name": "stdout",
          "text": [
            "Krish\n",
            "1\n",
            "2\n",
            "3\n",
            "4\n",
            "apple\n",
            "banana\n"
          ]
        }
      ]
    },
    {
      "cell_type": "code",
      "source": [
        "fruits_list = [\"Mango\",\"Cherry\",\"Apple\",\"Papaya\",\"Banana\"]\n",
        "for x in fruits_list:\n",
        "  print(x)\n",
        "  if x==\"Cherry\":\n",
        "   print(\"cher\")"
      ],
      "metadata": {
        "colab": {
          "base_uri": "https://localhost:8080/"
        },
        "id": "xYpYqYoxuHXb",
        "outputId": "363bcc26-b356-430d-97af-507fd2224047"
      },
      "execution_count": 61,
      "outputs": [
        {
          "output_type": "stream",
          "name": "stdout",
          "text": [
            "Mango\n",
            "Cherry\n",
            "cher\n",
            "Apple\n",
            "Papaya\n",
            "Banana\n"
          ]
        }
      ]
    },
    {
      "cell_type": "code",
      "source": [
        "fruit='mango'\n",
        "for x in fruit:\n",
        "    print(x)"
      ],
      "metadata": {
        "colab": {
          "base_uri": "https://localhost:8080/"
        },
        "id": "F8gxoN1nuP7G",
        "outputId": "2cee0a24-d313-41af-8452-88a428f6e9fa"
      },
      "execution_count": 62,
      "outputs": [
        {
          "output_type": "stream",
          "name": "stdout",
          "text": [
            "m\n",
            "a\n",
            "n\n",
            "g\n",
            "o\n"
          ]
        }
      ]
    },
    {
      "cell_type": "code",
      "source": [
        "fruit[2]"
      ],
      "metadata": {
        "colab": {
          "base_uri": "https://localhost:8080/",
          "height": 36
        },
        "id": "-o5bl9BnuwZR",
        "outputId": "ee6f89ad-9158-4edc-ce8c-9881d1d34f71"
      },
      "execution_count": 63,
      "outputs": [
        {
          "output_type": "execute_result",
          "data": {
            "text/plain": [
              "'n'"
            ],
            "application/vnd.google.colaboratory.intrinsic+json": {
              "type": "string"
            }
          },
          "metadata": {},
          "execution_count": 63
        }
      ]
    },
    {
      "cell_type": "code",
      "source": [
        "## range\n",
        "for i in range(1,10):\n",
        "    print(i)"
      ],
      "metadata": {
        "colab": {
          "base_uri": "https://localhost:8080/"
        },
        "id": "UwTK4fPQu2Ji",
        "outputId": "a31a6850-54d6-4cf9-e9ff-fb6efeb4d6f3"
      },
      "execution_count": 64,
      "outputs": [
        {
          "output_type": "stream",
          "name": "stdout",
          "text": [
            "1\n",
            "2\n",
            "3\n",
            "4\n",
            "5\n",
            "6\n",
            "7\n",
            "8\n",
            "9\n"
          ]
        }
      ]
    },
    {
      "cell_type": "code",
      "source": [
        "for i in range(0,7,2):\n",
        "    print(i)"
      ],
      "metadata": {
        "colab": {
          "base_uri": "https://localhost:8080/"
        },
        "id": "4l1r1rV-vS2E",
        "outputId": "2fe70ba6-4df7-46b1-c9c8-d5a2840d803a"
      },
      "execution_count": 65,
      "outputs": [
        {
          "output_type": "stream",
          "name": "stdout",
          "text": [
            "0\n",
            "2\n",
            "4\n",
            "6\n"
          ]
        }
      ]
    },
    {
      "cell_type": "code",
      "source": [
        "## Nested loops\n",
        "n=7\n",
        "\n",
        "for i in range(0,n):\n",
        "    for j in range(0,i+1):\n",
        "        print(\"*\",end=\"\")\n",
        "    print()"
      ],
      "metadata": {
        "colab": {
          "base_uri": "https://localhost:8080/"
        },
        "id": "ierLTQOYvUs2",
        "outputId": "2afec28a-57fb-4573-b9e9-4498eb57deee"
      },
      "execution_count": 66,
      "outputs": [
        {
          "output_type": "stream",
          "name": "stdout",
          "text": [
            "*\n",
            "**\n",
            "***\n",
            "****\n",
            "*****\n",
            "******\n",
            "*******\n"
          ]
        }
      ]
    },
    {
      "cell_type": "code",
      "source": [
        "##Loop controls\n",
        "## Break and continue\n",
        "fruits_list = [\"Mango\",\"Cherry\",\"Apple\",\"Papaya\",\"Banana\"]\n"
      ],
      "metadata": {
        "id": "Dbo0PpWGvmJU"
      },
      "execution_count": 67,
      "outputs": []
    },
    {
      "cell_type": "code",
      "source": [
        "for i in fruits_list:\n",
        "    if i==\"Apple\":\n",
        "        print(\"The fruit is apple\")\n",
        "        break\n",
        "    print(i)"
      ],
      "metadata": {
        "colab": {
          "base_uri": "https://localhost:8080/"
        },
        "id": "puZ8TJg_vpec",
        "outputId": "2466f1b1-a92e-4099-d9cb-ac9c9c7bc27c"
      },
      "execution_count": 68,
      "outputs": [
        {
          "output_type": "stream",
          "name": "stdout",
          "text": [
            "Mango\n",
            "Cherry\n",
            "The fruit is apple\n"
          ]
        }
      ]
    },
    {
      "cell_type": "code",
      "source": [],
      "metadata": {
        "id": "QdC8-SNrvuxP"
      },
      "execution_count": null,
      "outputs": []
    }
  ]
}